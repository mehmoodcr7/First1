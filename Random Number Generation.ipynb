{
  "nbformat": 4,
  "nbformat_minor": 0,
  "metadata": {
    "colab": {
      "provenance": []
    },
    "kernelspec": {
      "name": "python3",
      "display_name": "Python 3"
    },
    "language_info": {
      "name": "python"
    }
  },
  "cells": [
    {
      "cell_type": "code",
      "execution_count": null,
      "metadata": {
        "id": "gskSJ3A-FGjM"
      },
      "outputs": [],
      "source": [
        "from numpy import random"
      ]
    },
    {
      "cell_type": "code",
      "source": [
        "#Generate any random number between 0 to 100\n",
        "x = random.randint(100)\n",
        "\n",
        "print(x)\n",
        "\n",
        "#Generate any five numbers between 0 to 100\n",
        "x=random.randint(100, size=(5))\n",
        "\n",
        "print(x)\n",
        "\n",
        "#Generate a 2 dimensional array with 3 rows, each row containing 3 random integers from 0 to 100:\n",
        "x = random.randint(100, size=(3, 3))\n",
        "\n",
        "print(x)\n",
        "\n",
        "\n",
        "#Generate random number from array\n",
        "x = random.choice([1, 4, 7, 8])\n",
        "\n",
        "print(x)\n"
      ],
      "metadata": {
        "colab": {
          "base_uri": "https://localhost:8080/"
        },
        "id": "sFt4Omlky8L2",
        "outputId": "45c1a22b-5a9a-40be-be47-5add37c9de17"
      },
      "execution_count": null,
      "outputs": [
        {
          "output_type": "stream",
          "name": "stdout",
          "text": [
            "73\n",
            "[91 71 73 61 35]\n",
            "[[15 26 73]\n",
            " [15 72 62]\n",
            " [92 73  8]]\n",
            "4\n"
          ]
        }
      ]
    }
  ]
}